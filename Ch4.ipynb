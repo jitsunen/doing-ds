{
 "cells": [
  {
   "cell_type": "code",
   "execution_count": 18,
   "metadata": {},
   "outputs": [],
   "source": [
    "# import libs\n",
    "import pandas as pd\n",
    "import numpy as np\n",
    "import seaborn as sns\n",
    "import matplotlib.pyplot as plt"
   ]
  },
  {
   "cell_type": "code",
   "execution_count": 24,
   "metadata": {},
   "outputs": [
    {
     "data": {
      "text/html": [
       "<div>\n",
       "<style scoped>\n",
       "    .dataframe tbody tr th:only-of-type {\n",
       "        vertical-align: middle;\n",
       "    }\n",
       "\n",
       "    .dataframe tbody tr th {\n",
       "        vertical-align: top;\n",
       "    }\n",
       "\n",
       "    .dataframe thead th {\n",
       "        text-align: right;\n",
       "    }\n",
       "</style>\n",
       "<table border=\"1\" class=\"dataframe\">\n",
       "  <thead>\n",
       "    <tr style=\"text-align: right;\">\n",
       "      <th></th>\n",
       "      <th>0</th>\n",
       "      <th>1</th>\n",
       "      <th>2</th>\n",
       "    </tr>\n",
       "  </thead>\n",
       "  <tbody>\n",
       "    <tr>\n",
       "      <th>count</th>\n",
       "      <td>1000</td>\n",
       "      <td>1000</td>\n",
       "      <td>1000</td>\n",
       "    </tr>\n",
       "    <tr>\n",
       "      <th>unique</th>\n",
       "      <td>1000</td>\n",
       "      <td>963</td>\n",
       "      <td>1000</td>\n",
       "    </tr>\n",
       "    <tr>\n",
       "      <th>top</th>\n",
       "      <td>https://www.nytimes.com/2018/01/12/style/pete-...</td>\n",
       "      <td>11 of Our Best Weekend Reads</td>\n",
       "      <td>&lt;!DOCTYPE html&gt;&lt;!--[if (gt IE 9)|!(IE)]&gt; &lt;!--&gt;...</td>\n",
       "    </tr>\n",
       "    <tr>\n",
       "      <th>freq</th>\n",
       "      <td>1</td>\n",
       "      <td>15</td>\n",
       "      <td>1</td>\n",
       "    </tr>\n",
       "  </tbody>\n",
       "</table>\n",
       "</div>"
      ],
      "text/plain": [
       "                                                        0  \\\n",
       "count                                                1000   \n",
       "unique                                               1000   \n",
       "top     https://www.nytimes.com/2018/01/12/style/pete-...   \n",
       "freq                                                    1   \n",
       "\n",
       "                                   1  \\\n",
       "count                           1000   \n",
       "unique                           963   \n",
       "top     11 of Our Best Weekend Reads   \n",
       "freq                              15   \n",
       "\n",
       "                                                        2  \n",
       "count                                                1000  \n",
       "unique                                               1000  \n",
       "top     <!DOCTYPE html><!--[if (gt IE 9)|!(IE)]> <!-->...  \n",
       "freq                                                    1  "
      ]
     },
     "execution_count": 24,
     "metadata": {},
     "output_type": "execute_result"
    }
   ],
   "source": [
    "sections = [('arts', 'Ch4/Arts.csv'), \n",
    "            ('business','Ch4/Business.csv'), \n",
    "            ('obituaries','Ch4/Obituaries.csv'), \n",
    "            ('sports','Ch4/Sports.csv'), \n",
    "            ('world', 'Ch4/World.csv')]\n",
    "for t,s in sections:\n",
    "    with open(s) as f:\n",
    "        content = f.readlines()\n",
    "        content = [x.split(sep='\\t', maxsplit=2) for x in content] \n",
    "        globals()[t] = pd.DataFrame(content)\n",
    "\n",
    "arts.describe()\n",
    "# load data\n",
    "# raw = {}\n",
    "# sections = ['Arts']\n",
    "# list(map(lambda s: pd.read_csv('Ch4/' + s + '.csv', sep = \"\\t\", lineterminator=\"\\n\", header=0), sections))\n"
   ]
  }
 ],
 "metadata": {
  "kernelspec": {
   "display_name": "Python 3",
   "language": "python",
   "name": "python3"
  },
  "language_info": {
   "codemirror_mode": {
    "name": "ipython",
    "version": 3
   },
   "file_extension": ".py",
   "mimetype": "text/x-python",
   "name": "python",
   "nbconvert_exporter": "python",
   "pygments_lexer": "ipython3",
   "version": "3.6.0"
  }
 },
 "nbformat": 4,
 "nbformat_minor": 2
}
