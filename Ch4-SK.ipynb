{
 "cells": [
  {
   "cell_type": "code",
   "execution_count": 1,
   "metadata": {},
   "outputs": [],
   "source": [
    "# import libs\n",
    "import pandas as pd\n",
    "import numpy as np\n",
    "import seaborn as sns\n",
    "import matplotlib.pyplot as plt\n",
    "from sklearn.pipeline import Pipeline\n",
    "from sklearn.feature_extraction.text import TfidfTransformer\n",
    "from sklearn.feature_extraction.text import CountVectorizer\n",
    "from sklearn.naive_bayes import MultinomialNB\n"
   ]
  },
  {
   "cell_type": "code",
   "execution_count": 2,
   "metadata": {},
   "outputs": [
    {
     "data": {
      "text/html": [
       "<div>\n",
       "<style scoped>\n",
       "    .dataframe tbody tr th:only-of-type {\n",
       "        vertical-align: middle;\n",
       "    }\n",
       "\n",
       "    .dataframe tbody tr th {\n",
       "        vertical-align: top;\n",
       "    }\n",
       "\n",
       "    .dataframe thead th {\n",
       "        text-align: right;\n",
       "    }\n",
       "</style>\n",
       "<table border=\"1\" class=\"dataframe\">\n",
       "  <thead>\n",
       "    <tr style=\"text-align: right;\">\n",
       "      <th></th>\n",
       "      <th>target</th>\n",
       "    </tr>\n",
       "  </thead>\n",
       "  <tbody>\n",
       "    <tr>\n",
       "      <th>count</th>\n",
       "      <td>1000.0</td>\n",
       "    </tr>\n",
       "    <tr>\n",
       "      <th>mean</th>\n",
       "      <td>0.0</td>\n",
       "    </tr>\n",
       "    <tr>\n",
       "      <th>std</th>\n",
       "      <td>0.0</td>\n",
       "    </tr>\n",
       "    <tr>\n",
       "      <th>min</th>\n",
       "      <td>0.0</td>\n",
       "    </tr>\n",
       "    <tr>\n",
       "      <th>25%</th>\n",
       "      <td>0.0</td>\n",
       "    </tr>\n",
       "    <tr>\n",
       "      <th>50%</th>\n",
       "      <td>0.0</td>\n",
       "    </tr>\n",
       "    <tr>\n",
       "      <th>75%</th>\n",
       "      <td>0.0</td>\n",
       "    </tr>\n",
       "    <tr>\n",
       "      <th>max</th>\n",
       "      <td>0.0</td>\n",
       "    </tr>\n",
       "  </tbody>\n",
       "</table>\n",
       "</div>"
      ],
      "text/plain": [
       "       target\n",
       "count  1000.0\n",
       "mean      0.0\n",
       "std       0.0\n",
       "min       0.0\n",
       "25%       0.0\n",
       "50%       0.0\n",
       "75%       0.0\n",
       "max       0.0"
      ]
     },
     "execution_count": 2,
     "metadata": {},
     "output_type": "execute_result"
    }
   ],
   "source": [
    "sections = [('arts', 'Ch4/Arts.csv',0), \n",
    "            ('business','Ch4/Business.csv', 1), \n",
    "            ('obituaries','Ch4/Obituaries.csv', 2), \n",
    "            ('sports','Ch4/Sports.csv', 3), \n",
    "            ('world', 'Ch4/World.csv', 4)]\n",
    "for section,file, encoded_section in sections:\n",
    "    with open(file) as f:\n",
    "        content = f.readlines()\n",
    "        content = [x.split(sep='\\t', maxsplit=2) for x in content] \n",
    "        globals()[section] = pd.DataFrame(content, columns=['url', 'title', 'body'])\n",
    "        globals()[section]['target'] = encoded_section\n",
    "arts.describe()\n"
   ]
  },
  {
   "cell_type": "code",
   "execution_count": 3,
   "metadata": {},
   "outputs": [],
   "source": [
    "# parse body. \n",
    "from bs4 import BeautifulSoup\n",
    "from nltk import word_tokenize\n",
    "from nltk.corpus import stopwords\n",
    "stop_words = list(stopwords.words('english'))\n",
    "\n",
    "def get_text(text):\n",
    "    # remove style and script elements\n",
    "    soup = BeautifulSoup(text, 'lxml')\n",
    "    for script in soup([\"script\", \"style\"]):\n",
    "        script.decompose()\n",
    "\n",
    "    # tokenize and remove stop words\n",
    "    return soup.get_text()\n",
    "\n",
    "# tokenize title and body\n",
    "for t,s,target in sections:\n",
    "    globals()[t]['title_parsed'] = globals()[t].apply(lambda row: get_text(row['title']), axis = 1)\n",
    "    globals()[t]['body_parsed'] = globals()[t].apply(lambda row: get_text(row['body']), axis = 1)\n",
    "\n",
    "    "
   ]
  },
  {
   "cell_type": "code",
   "execution_count": 4,
   "metadata": {},
   "outputs": [
    {
     "data": {
      "text/html": [
       "<div>\n",
       "<style scoped>\n",
       "    .dataframe tbody tr th:only-of-type {\n",
       "        vertical-align: middle;\n",
       "    }\n",
       "\n",
       "    .dataframe tbody tr th {\n",
       "        vertical-align: top;\n",
       "    }\n",
       "\n",
       "    .dataframe thead th {\n",
       "        text-align: right;\n",
       "    }\n",
       "</style>\n",
       "<table border=\"1\" class=\"dataframe\">\n",
       "  <thead>\n",
       "    <tr style=\"text-align: right;\">\n",
       "      <th></th>\n",
       "      <th>url</th>\n",
       "      <th>title</th>\n",
       "      <th>body</th>\n",
       "      <th>target</th>\n",
       "      <th>title_parsed</th>\n",
       "      <th>body_parsed</th>\n",
       "    </tr>\n",
       "  </thead>\n",
       "  <tbody>\n",
       "    <tr>\n",
       "      <th>0</th>\n",
       "      <td>https://www.nytimes.com/2018/04/26/arts/design...</td>\n",
       "      <td>10 Galleries to Visit Now on the Upper East Side</td>\n",
       "      <td>&lt;!DOCTYPE html&gt;&lt;!--[if (gt IE 9)|!(IE)]&gt; &lt;!--&gt;...</td>\n",
       "      <td>3</td>\n",
       "      <td>10 Galleries to Visit Now on the Upper East Side</td>\n",
       "      <td>10 Galleries to Visit Now on the Upper East ...</td>\n",
       "    </tr>\n",
       "    <tr>\n",
       "      <th>1</th>\n",
       "      <td>https://www.nytimes.com/aponline/2018/04/26/sp...</td>\n",
       "      <td>The Latest: Lions, Bengals Each Draft Centers</td>\n",
       "      <td>&lt;!DOCTYPE html&gt;&lt;!--[if (gt IE 9)|!(IE)]&gt; &lt;!--&gt;...</td>\n",
       "      <td>3</td>\n",
       "      <td>The Latest: Lions, Bengals Each Draft Centers</td>\n",
       "      <td>The Latest: Packers and Cowboys Add Defensiv...</td>\n",
       "    </tr>\n",
       "    <tr>\n",
       "      <th>2</th>\n",
       "      <td>https://www.nytimes.com/2018/04/26/sports/nfl-...</td>\n",
       "      <td>NFL Draft 2018 Live: Round 1 Pick-by-Pick Updates</td>\n",
       "      <td>&lt;!DOCTYPE html&gt;&lt;!--[if (gt IE 9)|!(IE)]&gt; &lt;!--&gt;...</td>\n",
       "      <td>3</td>\n",
       "      <td>NFL Draft 2018 Live: Round 1 Pick-by-Pick Updates</td>\n",
       "      <td>NFL Draft 2018 Live: Round 1 Pick-by-Pick Up...</td>\n",
       "    </tr>\n",
       "    <tr>\n",
       "      <th>3</th>\n",
       "      <td>https://www.nytimes.com/2018/04/26/nyregion/la...</td>\n",
       "      <td>The Lawyer at the Side of de Blasio, Cuomo and...</td>\n",
       "      <td>&lt;!DOCTYPE html&gt;&lt;!--[if (gt IE 9)|!(IE)]&gt; &lt;!--&gt;...</td>\n",
       "      <td>3</td>\n",
       "      <td>The Lawyer at the Side of de Blasio, Cuomo and...</td>\n",
       "      <td>The Lawyer at the Side of de Blasio, Cuomo a...</td>\n",
       "    </tr>\n",
       "    <tr>\n",
       "      <th>4</th>\n",
       "      <td>https://www.nytimes.com/aponline/2018/04/26/sp...</td>\n",
       "      <td>Game 6s on Tap: LeBron, Raptors, Jazz Look to ...</td>\n",
       "      <td>&lt;!DOCTYPE html&gt;&lt;!--[if (gt IE 9)|!(IE)]&gt; &lt;!--&gt;...</td>\n",
       "      <td>3</td>\n",
       "      <td>Game 6s on Tap: LeBron, Raptors, Jazz Look to ...</td>\n",
       "      <td>Game 6s on Tap: LeBron, Raptors, Jazz Look t...</td>\n",
       "    </tr>\n",
       "  </tbody>\n",
       "</table>\n",
       "</div>"
      ],
      "text/plain": [
       "                                                 url  \\\n",
       "0  https://www.nytimes.com/2018/04/26/arts/design...   \n",
       "1  https://www.nytimes.com/aponline/2018/04/26/sp...   \n",
       "2  https://www.nytimes.com/2018/04/26/sports/nfl-...   \n",
       "3  https://www.nytimes.com/2018/04/26/nyregion/la...   \n",
       "4  https://www.nytimes.com/aponline/2018/04/26/sp...   \n",
       "\n",
       "                                               title  \\\n",
       "0   10 Galleries to Visit Now on the Upper East Side   \n",
       "1      The Latest: Lions, Bengals Each Draft Centers   \n",
       "2  NFL Draft 2018 Live: Round 1 Pick-by-Pick Updates   \n",
       "3  The Lawyer at the Side of de Blasio, Cuomo and...   \n",
       "4  Game 6s on Tap: LeBron, Raptors, Jazz Look to ...   \n",
       "\n",
       "                                                body  target  \\\n",
       "0  <!DOCTYPE html><!--[if (gt IE 9)|!(IE)]> <!-->...       3   \n",
       "1  <!DOCTYPE html><!--[if (gt IE 9)|!(IE)]> <!-->...       3   \n",
       "2  <!DOCTYPE html><!--[if (gt IE 9)|!(IE)]> <!-->...       3   \n",
       "3  <!DOCTYPE html><!--[if (gt IE 9)|!(IE)]> <!-->...       3   \n",
       "4  <!DOCTYPE html><!--[if (gt IE 9)|!(IE)]> <!-->...       3   \n",
       "\n",
       "                                        title_parsed  \\\n",
       "0   10 Galleries to Visit Now on the Upper East Side   \n",
       "1      The Latest: Lions, Bengals Each Draft Centers   \n",
       "2  NFL Draft 2018 Live: Round 1 Pick-by-Pick Updates   \n",
       "3  The Lawyer at the Side of de Blasio, Cuomo and...   \n",
       "4  Game 6s on Tap: LeBron, Raptors, Jazz Look to ...   \n",
       "\n",
       "                                         body_parsed  \n",
       "0    10 Galleries to Visit Now on the Upper East ...  \n",
       "1    The Latest: Packers and Cowboys Add Defensiv...  \n",
       "2    NFL Draft 2018 Live: Round 1 Pick-by-Pick Up...  \n",
       "3    The Lawyer at the Side of de Blasio, Cuomo a...  \n",
       "4    Game 6s on Tap: LeBron, Raptors, Jazz Look t...  "
      ]
     },
     "execution_count": 4,
     "metadata": {},
     "output_type": "execute_result"
    }
   ],
   "source": [
    "sports.describe()\n",
    "sports.head(5)"
   ]
  },
  {
   "cell_type": "code",
   "execution_count": 6,
   "metadata": {},
   "outputs": [
    {
     "name": "stdout",
     "output_type": "stream",
     "text": [
      "                                                   url  \\\n",
      "336  https://www.nytimes.com/2018/04/13/opinion/dep...   \n",
      "112  https://www.nytimes.com/aponline/2018/04/23/sp...   \n",
      "\n",
      "                                              title  \\\n",
      "336              How Sky Diving Cured My Depression   \n",
      "112  White Sox Beat Mariners 10-4, Stop 7-Game Skid   \n",
      "\n",
      "                                                  body  target  \\\n",
      "336  <!DOCTYPE html><html lang=\"en\" itemId=\"https:/...       3   \n",
      "112  <!DOCTYPE html><!--[if (gt IE 9)|!(IE)]> <!-->...       3   \n",
      "\n",
      "                                       title_parsed  \\\n",
      "336              How Sky Diving Cured My Depression   \n",
      "112  White Sox Beat Mariners 10-4, Stop 7-Game Skid   \n",
      "\n",
      "                                           body_parsed  \n",
      "336        Opinion | How Sky Diving Cured My Depres...  \n",
      "112    White Sox Beat Mariners 10-4, Stop 7-Game Sk...  \n",
      "                                                   url  \\\n",
      "90   https://www.nytimes.com/reuters/2018/04/25/bus...   \n",
      "667  https://www.nytimes.com/reuters/2018/04/19/us/...   \n",
      "\n",
      "                                                 title  \\\n",
      "90   China's ZTE Will Take 'Certain Actions' Agains...   \n",
      "667  Exclusive: EPA Chief's Aides, Security Agents ...   \n",
      "\n",
      "                                                  body  target  \\\n",
      "90   <!DOCTYPE html><!--[if (gt IE 9)|!(IE)]> <!-->...       1   \n",
      "667  <!DOCTYPE html><!--[if (gt IE 9)|!(IE)]> <!-->...       1   \n",
      "\n",
      "                                          title_parsed  \\\n",
      "90   China's ZTE Will Take 'Certain Actions' Agains...   \n",
      "667  Exclusive: EPA Chief's Aides, Security Agents ...   \n",
      "\n",
      "                                           body_parsed  \n",
      "90     China\"s ZTE Will Take \"Certain Actions\" Agai...  \n",
      "667    Exclusive: EPA Chief\"s Aides, Security Agent...  \n"
     ]
    }
   ],
   "source": [
    "# test-train split\n",
    "from sklearn.model_selection import train_test_split\n",
    "\n",
    "for df,file,target in sections:\n",
    "    train, test = train_test_split(globals()[df], test_size=0.5)\n",
    "    globals()[df + \"_train\"] = train\n",
    "    globals()[df + \"_test\"] = test\n",
    "\n",
    "print(sports_train.head(2))\n",
    "print(business_test.head(2))"
   ]
  },
  {
   "cell_type": "code",
   "execution_count": 7,
   "metadata": {},
   "outputs": [],
   "source": [
    "# concatenate the data frames\n",
    "train = pd.concat([arts_train, business_train, obituaries_train, sports_train, world_train])\n",
    "test = pd.concat([arts_test, business_test, obituaries_test, sports_test, world_test])\n"
   ]
  },
  {
   "cell_type": "code",
   "execution_count": 11,
   "metadata": {},
   "outputs": [
    {
     "data": {
      "text/plain": [
       "0.65039999999999998"
      ]
     },
     "execution_count": 11,
     "metadata": {},
     "output_type": "execute_result"
    }
   ],
   "source": [
    "# try multinomial NB\n",
    "text_clf = Pipeline([('vect', CountVectorizer()),\n",
    "                     ('tfidf', TfidfTransformer()),\n",
    "                     ('clf', MultinomialNB())])\n",
    "\n",
    "text_clf.fit(train['body_parsed'], train['target'])  \n",
    "\n",
    "predicted = text_clf.predict(test['body_parsed'])\n",
    "np.mean(predicted == test.target)  "
   ]
  },
  {
   "cell_type": "code",
   "execution_count": 14,
   "metadata": {},
   "outputs": [
    {
     "data": {
      "text/plain": [
       "0.69399999999999995"
      ]
     },
     "execution_count": 14,
     "metadata": {},
     "output_type": "execute_result"
    }
   ],
   "source": [
    "# try with SVM\n",
    "from sklearn.linear_model import SGDClassifier\n",
    "text_clf = Pipeline([('vect', CountVectorizer()),\n",
    "                    ('tfidf', TfidfTransformer()),\n",
    "                    ('clf', SGDClassifier(loss='hinge', penalty='l2',\n",
    "                                            alpha=1e-3, random_state=42,\n",
    "                                            max_iter=5, tol=None))\n",
    "                   ])\n",
    "text_clf.fit(train['body_parsed'], train['target'])  \n",
    "predicted = text_clf.predict(test['body_parsed'])\n",
    "np.mean(predicted == test.target)  "
   ]
  },
  {
   "cell_type": "code",
   "execution_count": 16,
   "metadata": {},
   "outputs": [
    {
     "name": "stdout",
     "output_type": "stream",
     "text": [
      "             precision    recall  f1-score   support\n",
      "\n",
      "       Arts       0.61      0.80      0.69       500\n",
      "   Business       0.66      0.72      0.69       500\n",
      " Obituaries       0.86      0.88      0.87       500\n",
      "     Sports       0.67      0.63      0.65       500\n",
      "      World       0.68      0.44      0.53       500\n",
      "\n",
      "avg / total       0.70      0.69      0.69      2500\n",
      "\n"
     ]
    },
    {
     "data": {
      "text/plain": [
       "array([[399,  11,  36,  40,  14],\n",
       "       [ 48, 362,   5,  36,  49],\n",
       "       [ 38,   1, 439,  17,   5],\n",
       "       [ 77,  52,  21, 317,  33],\n",
       "       [ 87, 120,  12,  63, 218]])"
      ]
     },
     "execution_count": 16,
     "metadata": {},
     "output_type": "execute_result"
    }
   ],
   "source": [
    "# print metrics\n",
    "from sklearn import metrics\n",
    "\n",
    "print(metrics.classification_report(test.target, predicted, target_names=['Arts', 'Business', 'Obituaries', 'Sports', 'World']))\n",
    "metrics.confusion_matrix(test.target, predicted)"
   ]
  }
 ],
 "metadata": {
  "kernelspec": {
   "display_name": "Python 3",
   "language": "python",
   "name": "python3"
  },
  "language_info": {
   "codemirror_mode": {
    "name": "ipython",
    "version": 3
   },
   "file_extension": ".py",
   "mimetype": "text/x-python",
   "name": "python",
   "nbconvert_exporter": "python",
   "pygments_lexer": "ipython3",
   "version": "3.6.0"
  }
 },
 "nbformat": 4,
 "nbformat_minor": 2
}
